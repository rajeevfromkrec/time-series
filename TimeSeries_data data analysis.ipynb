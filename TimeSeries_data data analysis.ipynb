{
  "nbformat": 4,
  "nbformat_minor": 0,
  "metadata": {
    "colab": {
      "name": "TimeSeries data.ipynb",
      "provenance": [],
      "authorship_tag": "ABX9TyPAh/zVxAbjMdCJdwS7Z3/F",
      "include_colab_link": true
    },
    "kernelspec": {
      "name": "python3",
      "display_name": "Python 3"
    }
  },
  "cells": [
    {
      "cell_type": "markdown",
      "metadata": {
        "id": "view-in-github",
        "colab_type": "text"
      },
      "source": [
        "<a href=\"https://colab.research.google.com/github/rajeevfromkrec/time-series/blob/master/TimeSeries_data%20data%20analysis.ipynb\" target=\"_parent\"><img src=\"https://colab.research.google.com/assets/colab-badge.svg\" alt=\"Open In Colab\"/></a>"
      ]
    },
    {
      "cell_type": "code",
      "metadata": {
        "id": "YVaFQv9RGAdC",
        "colab_type": "code",
        "colab": {
          "base_uri": "https://localhost:8080/",
          "height": 136
        },
        "outputId": "c3e1e961-fc4f-49ac-c8cf-71796755fda7"
      },
      "source": [
        "!git clone https://github.com/jbrownlee/Datasets.git"
      ],
      "execution_count": 1,
      "outputs": [
        {
          "output_type": "stream",
          "text": [
            "Cloning into 'Datasets'...\n",
            "remote: Enumerating objects: 28, done.\u001b[K\n",
            "remote: Counting objects:   3% (1/28)\u001b[K\rremote: Counting objects:   7% (2/28)\u001b[K\rremote: Counting objects:  10% (3/28)\u001b[K\rremote: Counting objects:  14% (4/28)\u001b[K\rremote: Counting objects:  17% (5/28)\u001b[K\rremote: Counting objects:  21% (6/28)\u001b[K\rremote: Counting objects:  25% (7/28)\u001b[K\rremote: Counting objects:  28% (8/28)\u001b[K\rremote: Counting objects:  32% (9/28)\u001b[K\rremote: Counting objects:  35% (10/28)\u001b[K\rremote: Counting objects:  39% (11/28)\u001b[K\rremote: Counting objects:  42% (12/28)\u001b[K\rremote: Counting objects:  46% (13/28)\u001b[K\rremote: Counting objects:  50% (14/28)\u001b[K\rremote: Counting objects:  53% (15/28)\u001b[K\rremote: Counting objects:  57% (16/28)\u001b[K\rremote: Counting objects:  60% (17/28)\u001b[K\rremote: Counting objects:  64% (18/28)\u001b[K\rremote: Counting objects:  67% (19/28)\u001b[K\rremote: Counting objects:  71% (20/28)\u001b[K\rremote: Counting objects:  75% (21/28)\u001b[K\rremote: Counting objects:  78% (22/28)\u001b[K\rremote: Counting objects:  82% (23/28)\u001b[K\rremote: Counting objects:  85% (24/28)\u001b[K\rremote: Counting objects:  89% (25/28)\u001b[K\rremote: Counting objects:  92% (26/28)\u001b[K\rremote: Counting objects:  96% (27/28)\u001b[K\rremote: Counting objects: 100% (28/28)\u001b[K\rremote: Counting objects: 100% (28/28), done.\u001b[K\n",
            "remote: Compressing objects: 100% (22/22), done.\u001b[K\n",
            "remote: Total 274 (delta 12), reused 22 (delta 6), pack-reused 246\u001b[K\n",
            "Receiving objects: 100% (274/274), 214.78 MiB | 41.38 MiB/s, done.\n",
            "Resolving deltas: 100% (108/108), done.\n"
          ],
          "name": "stdout"
        }
      ]
    },
    {
      "cell_type": "code",
      "metadata": {
        "id": "EAvl9vAZGDOW",
        "colab_type": "code",
        "colab": {}
      },
      "source": [
        "import pandas as pd\n",
        "import numpy as np\n",
        "import matplotlib.pyplot as plt\n"
      ],
      "execution_count": 2,
      "outputs": []
    },
    {
      "cell_type": "code",
      "metadata": {
        "id": "Adq96NpTGVXA",
        "colab_type": "code",
        "colab": {
          "base_uri": "https://localhost:8080/",
          "height": 34
        },
        "outputId": "98b6cc3e-baf1-4657-ad62-501c94698fc5"
      },
      "source": [
        "!ls"
      ],
      "execution_count": 3,
      "outputs": [
        {
          "output_type": "stream",
          "text": [
            "Datasets  sample_data\n"
          ],
          "name": "stdout"
        }
      ]
    },
    {
      "cell_type": "code",
      "metadata": {
        "id": "IIhtByuXGcFv",
        "colab_type": "code",
        "colab": {}
      },
      "source": [
        "import os\n",
        "import glob"
      ],
      "execution_count": 4,
      "outputs": []
    },
    {
      "cell_type": "code",
      "metadata": {
        "id": "OdO-FeuHGgBs",
        "colab_type": "code",
        "colab": {
          "base_uri": "https://localhost:8080/",
          "height": 1000
        },
        "outputId": "4f1f3b86-64e1-4812-cdae-d27be5b9e0d7"
      },
      "source": [
        "os.listdir('Datasets')"
      ],
      "execution_count": 5,
      "outputs": [
        {
          "output_type": "execute_result",
          "data": {
            "text/plain": [
              "['wheat-seeds.csv',\n",
              " 'mammography.csv',\n",
              " 'horse-colic.data',\n",
              " 'adult.names',\n",
              " 'oil-spill.names',\n",
              " 'new-thyroid.csv',\n",
              " 'monthly-car-sales.csv',\n",
              " 'haberman.csv',\n",
              " 'housing.names',\n",
              " 'winequality-white.csv',\n",
              " 'shampoo.csv',\n",
              " 'breast-cancer-wisconsin.names',\n",
              " 'mammography.names',\n",
              " 'monthly-shampoo-sales.names',\n",
              " 'wine.names',\n",
              " 'auto-insurance.csv',\n",
              " 'adult-train.csv',\n",
              " 'german.csv',\n",
              " 'oil-spill.csv',\n",
              " 'housing.data',\n",
              " 'monthly-robberies.csv',\n",
              " 'daily-min-temperatures.csv',\n",
              " 'phoneme.names',\n",
              " 'airline-passengers.names',\n",
              " 'abalone.csv',\n",
              " 'monthly-mean-temp.csv',\n",
              " 'banknote_authentication.csv',\n",
              " 'daily-min-temperatures.names',\n",
              " 'breast-cancer-wisconsin.csv',\n",
              " 'glass.names',\n",
              " 'daily-total-female-births.names',\n",
              " 'pollution.names',\n",
              " 'household_power_consumption.zip',\n",
              " 'iris.csv',\n",
              " 'adult-test.csv',\n",
              " 'german.names',\n",
              " 'longley.names',\n",
              " 'ecoli.csv',\n",
              " 'pollution.csv',\n",
              " 'winequality.names',\n",
              " 'breast-cancer.csv',\n",
              " 'breast-cancer-wisconsin.data',\n",
              " 'monthly-car-sales.names',\n",
              " 'haberman.names',\n",
              " 'IndoorMovement.zip',\n",
              " 'monthly-sunspots.csv',\n",
              " 'monthly-shampoo-sales.csv',\n",
              " 'phoneme.csv',\n",
              " 'monthly-writing-paper-sales.csv',\n",
              " 'auto-insurance.names',\n",
              " 'monthly-mean-temp.names',\n",
              " 'monthly-robberies.names',\n",
              " 'horse-colic.csv',\n",
              " 'abalone.names',\n",
              " 'longley.csv',\n",
              " 'daily-max-temperatures.names',\n",
              " 'auto_imports.csv',\n",
              " 'monthly-airline-passengers.csv',\n",
              " 'shampoo.names',\n",
              " 'adult-all.csv',\n",
              " 'wine.csv',\n",
              " 'breast-cancer.names',\n",
              " 'pima-indians-diabetes.data.csv',\n",
              " 'daily-max-temperatures.csv',\n",
              " '.gitignore',\n",
              " 'housing.csv',\n",
              " 'pima-indians-diabetes.names',\n",
              " 'ionosphere.names',\n",
              " 'household_power_consumption.names',\n",
              " 'auto_imports.names',\n",
              " 'monthly_champagne_sales.names',\n",
              " 'HAR_Smartphones.names',\n",
              " 'sonar.csv',\n",
              " 'glass.csv',\n",
              " 'winequality-red.csv',\n",
              " 'yearly-water-usage.names',\n",
              " 'review_polarity.tar.gz',\n",
              " 'sonar.names',\n",
              " 'glass.data',\n",
              " 'wheat-seeds.names',\n",
              " 'monthly-writing-paper-sales.names',\n",
              " 'creditcard.csv.zip',\n",
              " 'README.md',\n",
              " '.git',\n",
              " 'creditcardfraud.names',\n",
              " 'pima-indians-diabetes.csv',\n",
              " 'ionosphere.csv',\n",
              " 'ecoli.names',\n",
              " 'yearly-water-usage.csv',\n",
              " 'iris.names',\n",
              " 'HAR_Smartphones.zip',\n",
              " 'airline-passengers.csv',\n",
              " 'monthly_champagne_sales.csv',\n",
              " 'ecoli.data',\n",
              " 'IndoorMovement.names',\n",
              " 'daily-total-female-births.csv',\n",
              " 'new-thyroid.names',\n",
              " 'horse-colic.names',\n",
              " 'banknote_authentication.names',\n",
              " 'monthly-sunspots.names']"
            ]
          },
          "metadata": {
            "tags": []
          },
          "execution_count": 5
        }
      ]
    },
    {
      "cell_type": "code",
      "metadata": {
        "id": "yDb-rABQGm2Q",
        "colab_type": "code",
        "colab": {}
      },
      "source": [
        "data=pd.read_csv('Datasets/daily-total-female-births.csv', index_col=[0],parse_dates=[0])"
      ],
      "execution_count": 9,
      "outputs": []
    },
    {
      "cell_type": "code",
      "metadata": {
        "id": "RDQLMqqmHjoz",
        "colab_type": "code",
        "colab": {
          "base_uri": "https://localhost:8080/",
          "height": 235
        },
        "outputId": "beb812ee-2859-4cd0-d792-56cb71c4ea40"
      },
      "source": [
        "data.head()"
      ],
      "execution_count": 10,
      "outputs": [
        {
          "output_type": "execute_result",
          "data": {
            "text/html": [
              "<div>\n",
              "<style scoped>\n",
              "    .dataframe tbody tr th:only-of-type {\n",
              "        vertical-align: middle;\n",
              "    }\n",
              "\n",
              "    .dataframe tbody tr th {\n",
              "        vertical-align: top;\n",
              "    }\n",
              "\n",
              "    .dataframe thead th {\n",
              "        text-align: right;\n",
              "    }\n",
              "</style>\n",
              "<table border=\"1\" class=\"dataframe\">\n",
              "  <thead>\n",
              "    <tr style=\"text-align: right;\">\n",
              "      <th></th>\n",
              "      <th>Births</th>\n",
              "    </tr>\n",
              "    <tr>\n",
              "      <th>Date</th>\n",
              "      <th></th>\n",
              "    </tr>\n",
              "  </thead>\n",
              "  <tbody>\n",
              "    <tr>\n",
              "      <th>1959-01-01</th>\n",
              "      <td>35</td>\n",
              "    </tr>\n",
              "    <tr>\n",
              "      <th>1959-01-02</th>\n",
              "      <td>32</td>\n",
              "    </tr>\n",
              "    <tr>\n",
              "      <th>1959-01-03</th>\n",
              "      <td>30</td>\n",
              "    </tr>\n",
              "    <tr>\n",
              "      <th>1959-01-04</th>\n",
              "      <td>31</td>\n",
              "    </tr>\n",
              "    <tr>\n",
              "      <th>1959-01-05</th>\n",
              "      <td>44</td>\n",
              "    </tr>\n",
              "  </tbody>\n",
              "</table>\n",
              "</div>"
            ],
            "text/plain": [
              "            Births\n",
              "Date              \n",
              "1959-01-01      35\n",
              "1959-01-02      32\n",
              "1959-01-03      30\n",
              "1959-01-04      31\n",
              "1959-01-05      44"
            ]
          },
          "metadata": {
            "tags": []
          },
          "execution_count": 10
        }
      ]
    },
    {
      "cell_type": "code",
      "metadata": {
        "id": "_ixci_2pHvFc",
        "colab_type": "code",
        "colab": {
          "base_uri": "https://localhost:8080/",
          "height": 34
        },
        "outputId": "0ca4f988-e375-4823-c0b1-177388178587"
      },
      "source": [
        "data.shape"
      ],
      "execution_count": 11,
      "outputs": [
        {
          "output_type": "execute_result",
          "data": {
            "text/plain": [
              "(365, 1)"
            ]
          },
          "metadata": {
            "tags": []
          },
          "execution_count": 11
        }
      ]
    },
    {
      "cell_type": "code",
      "metadata": {
        "id": "8efW2T0u6NmU",
        "colab_type": "code",
        "colab": {}
      },
      "source": [
        "data_birth=data[0:364]"
      ],
      "execution_count": 12,
      "outputs": []
    },
    {
      "cell_type": "code",
      "metadata": {
        "id": "cERed2KK6UV7",
        "colab_type": "code",
        "colab": {
          "base_uri": "https://localhost:8080/",
          "height": 235
        },
        "outputId": "668f274e-0882-49db-eb74-8a141f266fe1"
      },
      "source": [
        "data.tail()"
      ],
      "execution_count": 13,
      "outputs": [
        {
          "output_type": "execute_result",
          "data": {
            "text/html": [
              "<div>\n",
              "<style scoped>\n",
              "    .dataframe tbody tr th:only-of-type {\n",
              "        vertical-align: middle;\n",
              "    }\n",
              "\n",
              "    .dataframe tbody tr th {\n",
              "        vertical-align: top;\n",
              "    }\n",
              "\n",
              "    .dataframe thead th {\n",
              "        text-align: right;\n",
              "    }\n",
              "</style>\n",
              "<table border=\"1\" class=\"dataframe\">\n",
              "  <thead>\n",
              "    <tr style=\"text-align: right;\">\n",
              "      <th></th>\n",
              "      <th>Births</th>\n",
              "    </tr>\n",
              "    <tr>\n",
              "      <th>Date</th>\n",
              "      <th></th>\n",
              "    </tr>\n",
              "  </thead>\n",
              "  <tbody>\n",
              "    <tr>\n",
              "      <th>1959-12-27</th>\n",
              "      <td>37</td>\n",
              "    </tr>\n",
              "    <tr>\n",
              "      <th>1959-12-28</th>\n",
              "      <td>52</td>\n",
              "    </tr>\n",
              "    <tr>\n",
              "      <th>1959-12-29</th>\n",
              "      <td>48</td>\n",
              "    </tr>\n",
              "    <tr>\n",
              "      <th>1959-12-30</th>\n",
              "      <td>55</td>\n",
              "    </tr>\n",
              "    <tr>\n",
              "      <th>1959-12-31</th>\n",
              "      <td>50</td>\n",
              "    </tr>\n",
              "  </tbody>\n",
              "</table>\n",
              "</div>"
            ],
            "text/plain": [
              "            Births\n",
              "Date              \n",
              "1959-12-27      37\n",
              "1959-12-28      52\n",
              "1959-12-29      48\n",
              "1959-12-30      55\n",
              "1959-12-31      50"
            ]
          },
          "metadata": {
            "tags": []
          },
          "execution_count": 13
        }
      ]
    },
    {
      "cell_type": "code",
      "metadata": {
        "id": "51nC_6qK6X6p",
        "colab_type": "code",
        "colab": {
          "base_uri": "https://localhost:8080/",
          "height": 308
        },
        "outputId": "b6d908c0-5c9d-42c7-f547-3fc9190b28c6"
      },
      "source": [
        "data.plot()"
      ],
      "execution_count": 15,
      "outputs": [
        {
          "output_type": "execute_result",
          "data": {
            "text/plain": [
              "<matplotlib.axes._subplots.AxesSubplot at 0x7f5271ebfb00>"
            ]
          },
          "metadata": {
            "tags": []
          },
          "execution_count": 15
        },
        {
          "output_type": "display_data",
          "data": {
            "image/png": "[encoded data removed]",
            "text/plain": [
              "<Figure size 432x288 with 1 Axes>"
            ]
          },
          "metadata": {
            "tags": [],
            "needs_background": "light"
          }
        }
      ]
    },
    {
      "cell_type": "code",
      "metadata": {
        "id": "d0nyiqFV642I",
        "colab_type": "code",
        "colab": {}
      },
      "source": [
        "data_df=pd.DataFrame(data)."
      ],
      "execution_count": 21,
      "outputs": []
    },
    {
      "cell_type": "code",
      "metadata": {
        "id": "HJF9_5Uu7ZKc",
        "colab_type": "code",
        "colab": {
          "base_uri": "https://localhost:8080/",
          "height": 235
        },
        "outputId": "c231311d-3cc7-4fbd-eee7-a9b421913cbf"
      },
      "source": [
        "data_df.head()"
      ],
      "execution_count": 22,
      "outputs": [
        {
          "output_type": "execute_result",
          "data": {
            "text/html": [
              "<div>\n",
              "<style scoped>\n",
              "    .dataframe tbody tr th:only-of-type {\n",
              "        vertical-align: middle;\n",
              "    }\n",
              "\n",
              "    .dataframe tbody tr th {\n",
              "        vertical-align: top;\n",
              "    }\n",
              "\n",
              "    .dataframe thead th {\n",
              "        text-align: right;\n",
              "    }\n",
              "</style>\n",
              "<table border=\"1\" class=\"dataframe\">\n",
              "  <thead>\n",
              "    <tr style=\"text-align: right;\">\n",
              "      <th></th>\n",
              "      <th>Births</th>\n",
              "    </tr>\n",
              "    <tr>\n",
              "      <th>Date</th>\n",
              "      <th></th>\n",
              "    </tr>\n",
              "  </thead>\n",
              "  <tbody>\n",
              "    <tr>\n",
              "      <th>1959-01-01</th>\n",
              "      <td>35</td>\n",
              "    </tr>\n",
              "    <tr>\n",
              "      <th>1959-01-02</th>\n",
              "      <td>32</td>\n",
              "    </tr>\n",
              "    <tr>\n",
              "      <th>1959-01-03</th>\n",
              "      <td>30</td>\n",
              "    </tr>\n",
              "    <tr>\n",
              "      <th>1959-01-04</th>\n",
              "      <td>31</td>\n",
              "    </tr>\n",
              "    <tr>\n",
              "      <th>1959-01-05</th>\n",
              "      <td>44</td>\n",
              "    </tr>\n",
              "  </tbody>\n",
              "</table>\n",
              "</div>"
            ],
            "text/plain": [
              "            Births\n",
              "Date              \n",
              "1959-01-01      35\n",
              "1959-01-02      32\n",
              "1959-01-03      30\n",
              "1959-01-04      31\n",
              "1959-01-05      44"
            ]
          },
          "metadata": {
            "tags": []
          },
          "execution_count": 22
        }
      ]
    },
    {
      "cell_type": "code",
      "metadata": {
        "id": "SSAaid8K7fxt",
        "colab_type": "code",
        "colab": {
          "base_uri": "https://localhost:8080/",
          "height": 582
        },
        "outputId": "59941ec5-6578-4b9e-f9a5-7c5af3dc7db9"
      },
      "source": [
        "data.plot()\n",
        "data.rolling(window=20).mean().plot()"
      ],
      "execution_count": 31,
      "outputs": [
        {
          "output_type": "execute_result",
          "data": {
            "text/plain": [
              "<matplotlib.axes._subplots.AxesSubplot at 0x7f526e73a2b0>"
            ]
          },
          "metadata": {
            "tags": []
          },
          "execution_count": 31
        },
        {
          "output_type": "display_data",
          "data": {
            "image/png": "[encoded data removed]",
            "text/plain": [
              "<Figure size 432x288 with 1 Axes>"
            ]
          },
          "metadata": {
            "tags": [],
            "needs_background": "light"
          }
        },
        {
          "output_type": "display_data",
          "data": {
            "image/png": "[encoded data removed]",
            "text/plain": [
              "<Figure size 432x288 with 1 Axes>"
            ]
          },
          "metadata": {
            "tags": [],
            "needs_background": "light"
          }
        }
      ]
    },
    {
      "cell_type": "code",
      "metadata": {
        "id": "q4rtqjNd6eMF",
        "colab_type": "code",
        "colab": {
          "base_uri": "https://localhost:8080/",
          "height": 187
        },
        "outputId": "b5fe152c-893e-4d53-af31-e2014bbedad6"
      },
      "source": [
        "print(data.values[:10])"
      ],
      "execution_count": 19,
      "outputs": [
        {
          "output_type": "stream",
          "text": [
            "[[35]\n",
            " [32]\n",
            " [30]\n",
            " [31]\n",
            " [44]\n",
            " [29]\n",
            " [45]\n",
            " [43]\n",
            " [38]\n",
            " [27]]\n"
          ],
          "name": "stdout"
        }
      ]
    },
    {
      "cell_type": "code",
      "metadata": {
        "id": "_wpzpFa27K1t",
        "colab_type": "code",
        "colab": {}
      },
      "source": [
        "birth_df= pd.concat([data,data.shift(1)],axis=1)"
      ],
      "execution_count": 36,
      "outputs": []
    },
    {
      "cell_type": "code",
      "metadata": {
        "id": "BuCI-t1X9CSd",
        "colab_type": "code",
        "colab": {
          "base_uri": "https://localhost:8080/",
          "height": 235
        },
        "outputId": "535b98b1-0663-4a5e-c871-ff18ab1f0412"
      },
      "source": [
        "birth_df.head()"
      ],
      "execution_count": 37,
      "outputs": [
        {
          "output_type": "execute_result",
          "data": {
            "text/html": [
              "<div>\n",
              "<style scoped>\n",
              "    .dataframe tbody tr th:only-of-type {\n",
              "        vertical-align: middle;\n",
              "    }\n",
              "\n",
              "    .dataframe tbody tr th {\n",
              "        vertical-align: top;\n",
              "    }\n",
              "\n",
              "    .dataframe thead th {\n",
              "        text-align: right;\n",
              "    }\n",
              "</style>\n",
              "<table border=\"1\" class=\"dataframe\">\n",
              "  <thead>\n",
              "    <tr style=\"text-align: right;\">\n",
              "      <th></th>\n",
              "      <th>Births</th>\n",
              "      <th>Births</th>\n",
              "    </tr>\n",
              "    <tr>\n",
              "      <th>Date</th>\n",
              "      <th></th>\n",
              "      <th></th>\n",
              "    </tr>\n",
              "  </thead>\n",
              "  <tbody>\n",
              "    <tr>\n",
              "      <th>1959-01-01</th>\n",
              "      <td>35</td>\n",
              "      <td>NaN</td>\n",
              "    </tr>\n",
              "    <tr>\n",
              "      <th>1959-01-02</th>\n",
              "      <td>32</td>\n",
              "      <td>35.0</td>\n",
              "    </tr>\n",
              "    <tr>\n",
              "      <th>1959-01-03</th>\n",
              "      <td>30</td>\n",
              "      <td>32.0</td>\n",
              "    </tr>\n",
              "    <tr>\n",
              "      <th>1959-01-04</th>\n",
              "      <td>31</td>\n",
              "      <td>30.0</td>\n",
              "    </tr>\n",
              "    <tr>\n",
              "      <th>1959-01-05</th>\n",
              "      <td>44</td>\n",
              "      <td>31.0</td>\n",
              "    </tr>\n",
              "  </tbody>\n",
              "</table>\n",
              "</div>"
            ],
            "text/plain": [
              "            Births  Births\n",
              "Date                      \n",
              "1959-01-01      35     NaN\n",
              "1959-01-02      32    35.0\n",
              "1959-01-03      30    32.0\n",
              "1959-01-04      31    30.0\n",
              "1959-01-05      44    31.0"
            ]
          },
          "metadata": {
            "tags": []
          },
          "execution_count": 37
        }
      ]
    },
    {
      "cell_type": "code",
      "metadata": {
        "id": "YBeZ0o_b9Ncc",
        "colab_type": "code",
        "colab": {}
      },
      "source": [
        "birth_df.columns=['births', 'birth_forecast']"
      ],
      "execution_count": 41,
      "outputs": []
    },
    {
      "cell_type": "code",
      "metadata": {
        "id": "Jxvsv5G29lBH",
        "colab_type": "code",
        "colab": {
          "base_uri": "https://localhost:8080/",
          "height": 235
        },
        "outputId": "7a8a71ca-145f-4739-bdfb-b0164f39e6d1"
      },
      "source": [
        "birth_df.head()"
      ],
      "execution_count": 42,
      "outputs": [
        {
          "output_type": "execute_result",
          "data": {
            "text/html": [
              "<div>\n",
              "<style scoped>\n",
              "    .dataframe tbody tr th:only-of-type {\n",
              "        vertical-align: middle;\n",
              "    }\n",
              "\n",
              "    .dataframe tbody tr th {\n",
              "        vertical-align: top;\n",
              "    }\n",
              "\n",
              "    .dataframe thead th {\n",
              "        text-align: right;\n",
              "    }\n",
              "</style>\n",
              "<table border=\"1\" class=\"dataframe\">\n",
              "  <thead>\n",
              "    <tr style=\"text-align: right;\">\n",
              "      <th></th>\n",
              "      <th>births</th>\n",
              "      <th>birth_forecast</th>\n",
              "    </tr>\n",
              "    <tr>\n",
              "      <th>Date</th>\n",
              "      <th></th>\n",
              "      <th></th>\n",
              "    </tr>\n",
              "  </thead>\n",
              "  <tbody>\n",
              "    <tr>\n",
              "      <th>1959-01-01</th>\n",
              "      <td>35</td>\n",
              "      <td>NaN</td>\n",
              "    </tr>\n",
              "    <tr>\n",
              "      <th>1959-01-02</th>\n",
              "      <td>32</td>\n",
              "      <td>35.0</td>\n",
              "    </tr>\n",
              "    <tr>\n",
              "      <th>1959-01-03</th>\n",
              "      <td>30</td>\n",
              "      <td>32.0</td>\n",
              "    </tr>\n",
              "    <tr>\n",
              "      <th>1959-01-04</th>\n",
              "      <td>31</td>\n",
              "      <td>30.0</td>\n",
              "    </tr>\n",
              "    <tr>\n",
              "      <th>1959-01-05</th>\n",
              "      <td>44</td>\n",
              "      <td>31.0</td>\n",
              "    </tr>\n",
              "  </tbody>\n",
              "</table>\n",
              "</div>"
            ],
            "text/plain": [
              "            births  birth_forecast\n",
              "Date                              \n",
              "1959-01-01      35             NaN\n",
              "1959-01-02      32            35.0\n",
              "1959-01-03      30            32.0\n",
              "1959-01-04      31            30.0\n",
              "1959-01-05      44            31.0"
            ]
          },
          "metadata": {
            "tags": []
          },
          "execution_count": 42
        }
      ]
    },
    {
      "cell_type": "code",
      "metadata": {
        "id": "GtNThXkm-QPm",
        "colab_type": "code",
        "colab": {}
      },
      "source": [
        "birth_df=birth_df[1:365]"
      ],
      "execution_count": 47,
      "outputs": []
    },
    {
      "cell_type": "code",
      "metadata": {
        "id": "vuhkzhWo9rS6",
        "colab_type": "code",
        "colab": {}
      },
      "source": [
        "from sklearn.metrics import mean_squared_error"
      ],
      "execution_count": 44,
      "outputs": []
    },
    {
      "cell_type": "code",
      "metadata": {
        "id": "1EjLkWi793U8",
        "colab_type": "code",
        "colab": {
          "base_uri": "https://localhost:8080/",
          "height": 34
        },
        "outputId": "4be935c3-a9ac-493a-e0ee-4a3ba4b7ee15"
      },
      "source": [
        "birth_error=mean_squared_error(birth_df.births, birth_df.birth_forecast)\n",
        "birth_error"
      ],
      "execution_count": 49,
      "outputs": [
        {
          "output_type": "execute_result",
          "data": {
            "text/plain": [
              "84.22252747252747"
            ]
          },
          "metadata": {
            "tags": []
          },
          "execution_count": 49
        }
      ]
    },
    {
      "cell_type": "code",
      "metadata": {
        "id": "pFO13P1Z-IPr",
        "colab_type": "code",
        "colab": {
          "base_uri": "https://localhost:8080/",
          "height": 34
        },
        "outputId": "74ad5777-490f-4510-e440-cd0bad421602"
      },
      "source": [
        "np.sqrt(birth_error)"
      ],
      "execution_count": 50,
      "outputs": [
        {
          "output_type": "execute_result",
          "data": {
            "text/plain": [
              "9.177283229394606"
            ]
          },
          "metadata": {
            "tags": []
          },
          "execution_count": 50
        }
      ]
    },
    {
      "cell_type": "code",
      "metadata": {
        "id": "UTWffsB9-dL7",
        "colab_type": "code",
        "colab": {}
      },
      "source": [
        "from statsmodels.graphics.tsaplots import plot_acf,plot_pacf"
      ],
      "execution_count": 52,
      "outputs": []
    },
    {
      "cell_type": "code",
      "metadata": {
        "id": "odRYVj8V_FG3",
        "colab_type": "code",
        "colab": {
          "base_uri": "https://localhost:8080/",
          "height": 545
        },
        "outputId": "17f7f94d-e8a2-41ca-ac84-68796679fa50"
      },
      "source": [
        "plot_acf(data)"
      ],
      "execution_count": 54,
      "outputs": [
        {
          "output_type": "execute_result",
          "data": {
            "image/png": "[encoded data removed]",
            "text/plain": [
              "<Figure size 432x288 with 1 Axes>"
            ]
          },
          "metadata": {
            "tags": []
          },
          "execution_count": 54
        },
        {
          "output_type": "display_data",
          "data": {
            "image/png": "[encoded data removed]",
            "text/plain": [
              "<Figure size 432x288 with 1 Axes>"
            ]
          },
          "metadata": {
            "tags": [],
            "needs_background": "light"
          }
        }
      ]
    },
    {
      "cell_type": "code",
      "metadata": {
        "id": "muKB7XEo_Sgk",
        "colab_type": "code",
        "colab": {}
      },
      "source": [
        "train_data=data[1:330]\n",
        "test_dat=data[330:]"
      ],
      "execution_count": 55,
      "outputs": []
    },
    {
      "cell_type": "code",
      "metadata": {
        "id": "nlJhZ0CIIcpM",
        "colab_type": "code",
        "colab": {}
      },
      "source": [
        "from statsmodels.tsa.arima_model import ARIMA "
      ],
      "execution_count": 56,
      "outputs": []
    },
    {
      "cell_type": "code",
      "metadata": {
        "id": "XmmdZUTtIk9i",
        "colab_type": "code",
        "colab": {
          "base_uri": "https://localhost:8080/",
          "height": 139
        },
        "outputId": "22497a47-0dc1-4a93-8ddf-a4ae040d3051"
      },
      "source": [
        "birth_model=ARIMA(train_data, order=(2,1,3))\n",
        "birth_model_fit=birth_model.fit()"
      ],
      "execution_count": 57,
      "outputs": [
        {
          "output_type": "stream",
          "text": [
            "/usr/local/lib/python3.6/dist-packages/statsmodels/tsa/base/tsa_model.py:165: ValueWarning: No frequency information was provided, so inferred frequency D will be used.\n",
            "  % freq, ValueWarning)\n",
            "/usr/local/lib/python3.6/dist-packages/statsmodels/tsa/base/tsa_model.py:165: ValueWarning: No frequency information was provided, so inferred frequency D will be used.\n",
            "  % freq, ValueWarning)\n",
            "/usr/local/lib/python3.6/dist-packages/statsmodels/base/model.py:492: HessianInversionWarning: Inverting hessian failed, no bse or cov_params available\n",
            "  'available', HessianInversionWarning)\n"
          ],
          "name": "stderr"
        }
      ]
    },
    {
      "cell_type": "code",
      "metadata": {
        "id": "JLcqYDSLI8Av",
        "colab_type": "code",
        "colab": {
          "base_uri": "https://localhost:8080/",
          "height": 34
        },
        "outputId": "6c7ac2e4-ec40-4099-d243-2985f5338390"
      },
      "source": [
        "birth_model_fit.aic"
      ],
      "execution_count": 58,
      "outputs": [
        {
          "output_type": "execute_result",
          "data": {
            "text/plain": [
              "2225.004330713025"
            ]
          },
          "metadata": {
            "tags": []
          },
          "execution_count": 58
        }
      ]
    },
    {
      "cell_type": "code",
      "metadata": {
        "id": "bE2kkXVzJQNf",
        "colab_type": "code",
        "colab": {}
      },
      "source": [
        "birth_forecast=birth_model_fit.forecast(steps=35)[0]"
      ],
      "execution_count": 59,
      "outputs": []
    },
    {
      "cell_type": "code",
      "metadata": {
        "id": "E82r7ZGRJYwW",
        "colab_type": "code",
        "colab": {
          "base_uri": "https://localhost:8080/",
          "height": 136
        },
        "outputId": "4a7d70b9-088d-47b8-90e3-16c80a1677c6"
      },
      "source": [
        "birth_forecast"
      ],
      "execution_count": 60,
      "outputs": [
        {
          "output_type": "execute_result",
          "data": {
            "text/plain": [
              "array([45.31629667, 46.30979516, 43.62457226, 44.59411782, 46.50299079,\n",
              "       44.32043336, 44.08045536, 46.35170007, 45.05794942, 43.86247023,\n",
              "       45.95685344, 45.68527989, 43.9500254 , 45.45464969, 46.09901746,\n",
              "       44.28629665, 44.98175266, 46.25824435, 44.77083952, 44.64611191,\n",
              "       46.1829699 , 45.28815222, 44.50869654, 45.93985053, 45.73474797,\n",
              "       44.57823731, 45.62032437, 46.0392169 , 44.81795761, 45.31706417,\n",
              "       46.17215813, 45.16088842, 45.10403951, 46.14553264, 45.52909445])"
            ]
          },
          "metadata": {
            "tags": []
          },
          "execution_count": 60
        }
      ]
    },
    {
      "cell_type": "code",
      "metadata": {
        "id": "NmfJ7R7uJeeW",
        "colab_type": "code",
        "colab": {}
      },
      "source": [
        ""
      ],
      "execution_count": null,
      "outputs": []
    }
  ]
}